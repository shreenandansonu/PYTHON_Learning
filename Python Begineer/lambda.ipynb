{
 "cells": [
  {
   "cell_type": "markdown",
   "id": "afe01516",
   "metadata": {},
   "source": [
    "# Lambda Function\n",
    "\n",
    "- `lambda` This is a annonymus function which has no refference after its used. This is used to get rid of redundancy"
   ]
  },
  {
   "cell_type": "code",
   "execution_count": null,
   "id": "8620c2db",
   "metadata": {},
   "outputs": [
    {
     "name": "stdout",
     "output_type": "stream",
     "text": [
      "[1, 4, 9, 16, 25, 36, 49, 64, 81]\n"
     ]
    }
   ],
   "source": [
    "a=[1,2,3,4,5,6,7,8,9]\n",
    "square=list(map(lambda y:y**2,a))\n",
    "print(square)"
   ]
  },
  {
   "cell_type": "code",
   "execution_count": 18,
   "id": "c5a48e97",
   "metadata": {},
   "outputs": [
    {
     "name": "stdout",
     "output_type": "stream",
     "text": [
      "[2, 4, 6, 8]\n"
     ]
    }
   ],
   "source": [
    "even=list(filter(lambda x:x%2==0,a))\n",
    "print(even)"
   ]
  },
  {
   "cell_type": "code",
   "execution_count": null,
   "id": "40576f39",
   "metadata": {},
   "outputs": [
    {
     "name": "stdout",
     "output_type": "stream",
     "text": [
      "20\n"
     ]
    }
   ],
   "source": [
    "from functools import reduce\n",
    "sum=reduce(lambda x,y:x+y,even)\n",
    "print(sum)"
   ]
  },
  {
   "cell_type": "code",
   "execution_count": 30,
   "id": "2e58625d",
   "metadata": {},
   "outputs": [
    {
     "name": "stdout",
     "output_type": "stream",
     "text": [
      "[('Suraksha', 88, 'A'), ('Suraj', 99, 'S'), ('Shreenandan', 85, 'A'), ('Krishna', 100, 'S')]\n",
      "[('Shreenandan', 85, 'A'), ('Suraksha', 88, 'A'), ('Suraj', 99, 'S'), ('Krishna', 100, 'S')]\n",
      "[('Suraj', 99, 'S'), ('Krishna', 100, 'S'), ('Shreenandan', 85, 'A'), ('Suraksha', 88, 'A')]\n"
     ]
    }
   ],
   "source": [
    "students=[(\"Shreenandan\",85,'A'),(\"Suraksha\",88,'A'),(\"Suraj\",99,'S'),(\"Krishna\",100,'S')]\n",
    "print(sorted(students,reverse=True,key=lambda x:x[0])) #sorts the list based on 0th index \n",
    "print(sorted(students,reverse=False,key=lambda x:x[1]))#sorts the list based on 1st index\n",
    "print(sorted(students,reverse=True,key=lambda x:x[2]))#sorts the list based on 1st index"
   ]
  }
 ],
 "metadata": {
  "kernelspec": {
   "display_name": "Python 3",
   "language": "python",
   "name": "python3"
  },
  "language_info": {
   "codemirror_mode": {
    "name": "ipython",
    "version": 3
   },
   "file_extension": ".py",
   "mimetype": "text/x-python",
   "name": "python",
   "nbconvert_exporter": "python",
   "pygments_lexer": "ipython3",
   "version": "3.11.4"
  }
 },
 "nbformat": 4,
 "nbformat_minor": 5
}
