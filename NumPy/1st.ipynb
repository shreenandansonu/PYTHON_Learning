{
 "cells": [
  {
   "cell_type": "code",
   "execution_count": null,
   "id": "c7cbe457",
   "metadata": {},
   "outputs": [],
   "source": [
    "!pip install numpy"
   ]
  },
  {
   "cell_type": "code",
   "execution_count": 2,
   "id": "af1f2797",
   "metadata": {},
   "outputs": [],
   "source": [
    "import numpy as np"
   ]
  },
  {
   "cell_type": "markdown",
   "id": "a290d423",
   "metadata": {},
   "source": [
    "#  **THE BASICS**\n",
    "\n",
    "- `.ndim` to know the dimensions \n",
    "- `.size` to know the size of the array\n",
    "- `.dtype` to know the data type of the array element\n",
    "- `.itemsize` to know the Byte size of the element\n",
    "- `.nbytes` to know the total memorysize\n",
    "\n",
    "we can set the data type using `dtype=\"int8,int16,....int256\"` in terms of bits\n"
   ]
  },
  {
   "cell_type": "code",
   "execution_count": null,
   "id": "ff509be2",
   "metadata": {},
   "outputs": [
    {
     "data": {
      "text/plain": [
       "array([1, 2, 3])"
      ]
     },
     "execution_count": 5,
     "metadata": {},
     "output_type": "execute_result"
    }
   ],
   "source": [
    "a=np.array([1,2,3])\n",
    "a"
   ]
  },
  {
   "cell_type": "code",
   "execution_count": 12,
   "id": "5bcc058c",
   "metadata": {},
   "outputs": [
    {
     "name": "stdout",
     "output_type": "stream",
     "text": [
      "2\n",
      "6\n",
      "int32\n",
      "4 bytes\n",
      "24\n"
     ]
    }
   ],
   "source": [
    "b=np.array([[1,2,3],[4,5,6]],dtype='int32')\n",
    "print(b.ndim)\n",
    "print(b.size)\n",
    "print(b.dtype)\n",
    "print(f\"{b.itemsize}\" +' bytes') # depends upon the decliared size \n",
    "print(b.nbytes)"
   ]
  },
  {
   "cell_type": "markdown",
   "id": "5ef1875d",
   "metadata": {},
   "source": [
    "#  **Access and Manipulating**\n",
    "\n",
    "- `array[r,c]` to access particular element - allows indexing and negative indexing\n",
    "- `array[:,c]` `array[r,:]` allows to select c column and r row respectively\n",
    "- `s:e:st` this alows to slice selected part s=start, e=end-1,st=step\n",
    "- once we acccess the element we can manipuate it `array[r,c]=x`\n",
    "- we can assign using slice method too `array[s:e,c]=[s,.,.,e]`\n",
    "- elements can be accessed from `OUTSIDE to INSIDE` with ` , ` separated.\n",
    "[ND Code](#Multiple-Dimenssion)\n"
   ]
  },
  {
   "cell_type": "code",
   "execution_count": 16,
   "id": "dfc07e40",
   "metadata": {},
   "outputs": [
    {
     "name": "stdout",
     "output_type": "stream",
     "text": [
      "(2, 7)\n",
      "[[ 1  2  3  4  5  6  7]\n",
      " [ 8  9 10 11 12 13 14]]\n"
     ]
    }
   ],
   "source": [
    "a=np.array([[1,2,3,4,5,6,7],[8,9,10,11,12,13,14]])\n",
    "print(a.shape)\n",
    "print(a)"
   ]
  },
  {
   "cell_type": "code",
   "execution_count": 17,
   "id": "b5458158",
   "metadata": {},
   "outputs": [
    {
     "data": {
      "text/plain": [
       "12"
      ]
     },
     "execution_count": 17,
     "metadata": {},
     "output_type": "execute_result"
    }
   ],
   "source": [
    "a[1,4]"
   ]
  },
  {
   "cell_type": "code",
   "execution_count": 20,
   "id": "0ab3f9e8",
   "metadata": {},
   "outputs": [
    {
     "data": {
      "text/plain": [
       "array([2, 9])"
      ]
     },
     "execution_count": 20,
     "metadata": {},
     "output_type": "execute_result"
    }
   ],
   "source": [
    "a[:,1] # this shows the 2nd column"
   ]
  },
  {
   "cell_type": "code",
   "execution_count": 24,
   "id": "7ce446ea",
   "metadata": {},
   "outputs": [
    {
     "data": {
      "text/plain": [
       "array([ 8, 10])"
      ]
     },
     "execution_count": 24,
     "metadata": {},
     "output_type": "execute_result"
    }
   ],
   "source": [
    "a[1,:4:2] # this  shows the 2nd row\n",
    "# start at 0 end at 3 every 2nd number (8  9 10 11 12 13 14)\n",
    "#8,10"
   ]
  },
  {
   "cell_type": "code",
   "execution_count": 25,
   "id": "2bb03b07",
   "metadata": {},
   "outputs": [
    {
     "data": {
      "text/plain": [
       "array([[ 1,  2,  3,  4,  5,  6,  7],\n",
       "       [ 8,  9, 10, 11, 12, 13, 14]])"
      ]
     },
     "execution_count": 25,
     "metadata": {},
     "output_type": "execute_result"
    }
   ],
   "source": [
    "a"
   ]
  },
  {
   "cell_type": "code",
   "execution_count": 27,
   "id": "c678f753",
   "metadata": {},
   "outputs": [
    {
     "name": "stdout",
     "output_type": "stream",
     "text": [
      "15\n",
      "15\n"
     ]
    },
    {
     "data": {
      "text/plain": [
       "array([[ 1,  2,  3,  4,  5,  6,  7],\n",
       "       [ 8,  9, 10, 11, 12, 15, 14]])"
      ]
     },
     "execution_count": 27,
     "metadata": {},
     "output_type": "execute_result"
    }
   ],
   "source": [
    "print(a[1,5])\n",
    "a[1,5]=15\n",
    "print(a[1,5])\n",
    "a"
   ]
  },
  {
   "cell_type": "code",
   "execution_count": 30,
   "id": "402be4d3",
   "metadata": {},
   "outputs": [
    {
     "data": {
      "text/plain": [
       "array([[ 1,  2, 99, 98, 97,  6,  7],\n",
       "       [ 8,  9, 10, 11, 12, 15, 14]])"
      ]
     },
     "execution_count": 30,
     "metadata": {},
     "output_type": "execute_result"
    }
   ],
   "source": [
    "a[0,2:5]=[99,98,97]\n",
    "a"
   ]
  },
  {
   "cell_type": "markdown",
   "id": "f0e9bda7",
   "metadata": {},
   "source": [
    "### Multiple Dimenssion"
   ]
  },
  {
   "cell_type": "code",
   "execution_count": 35,
   "id": "8668e172",
   "metadata": {},
   "outputs": [
    {
     "name": "stdout",
     "output_type": "stream",
     "text": [
      "(3, 2, 4)\n"
     ]
    },
    {
     "data": {
      "text/plain": [
       "56"
      ]
     },
     "execution_count": 35,
     "metadata": {},
     "output_type": "execute_result"
    }
   ],
   "source": [
    "b=np.array([[[1,2,3,4],[5,6,7,8]],[[4,7,8,9],[10,11,14,56]],[[5,6,7,8],[17,18,19,20]]])\n",
    "b\n",
    "# I want to change 56 to 108 out to in approach\n",
    "print(b.shape)\n",
    "b[1,1,3]"
   ]
  }
 ],
 "metadata": {
  "kernelspec": {
   "display_name": "Python 3",
   "language": "python",
   "name": "python3"
  },
  "language_info": {
   "codemirror_mode": {
    "name": "ipython",
    "version": 3
   },
   "file_extension": ".py",
   "mimetype": "text/x-python",
   "name": "python",
   "nbconvert_exporter": "python",
   "pygments_lexer": "ipython3",
   "version": "3.11.4"
  }
 },
 "nbformat": 4,
 "nbformat_minor": 5
}
