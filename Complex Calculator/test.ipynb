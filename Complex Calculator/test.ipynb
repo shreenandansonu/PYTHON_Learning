{
 "cells": [
  {
   "cell_type": "code",
   "execution_count": 1,
   "id": "ce0c0d53",
   "metadata": {},
   "outputs": [],
   "source": [
    "from complex import *"
   ]
  },
  {
   "cell_type": "code",
   "execution_count": null,
   "id": "e13d3b83",
   "metadata": {},
   "outputs": [
    {
     "name": "stdout",
     "output_type": "stream",
     "text": [
      "4.000 + 5.000 j\n"
     ]
    }
   ],
   "source": [
    "a,b=map(int,(input(\"Enter real and imaginary number separated by ,: \").split(\",\")))\n",
    "\n",
    "c1=ComplexNumber(a,b)\n",
    "c1.ShowNum()"
   ]
  },
  {
   "cell_type": "code",
   "execution_count": 9,
   "id": "f6108abf",
   "metadata": {},
   "outputs": [
    {
     "data": {
      "text/plain": [
       "'6.403'"
      ]
     },
     "execution_count": 9,
     "metadata": {},
     "output_type": "execute_result"
    }
   ],
   "source": [
    "c1.magnitude()"
   ]
  },
  {
   "cell_type": "code",
   "execution_count": 12,
   "id": "550484bf",
   "metadata": {},
   "outputs": [
    {
     "name": "stdout",
     "output_type": "stream",
     "text": [
      "6.000 + 8.000 j\n"
     ]
    }
   ],
   "source": [
    "c2=c1+ComplexNumber(2,3)\n",
    "c2.ShowNum()"
   ]
  },
  {
   "cell_type": "code",
   "execution_count": 13,
   "id": "1f327f96",
   "metadata": {},
   "outputs": [
    {
     "name": "stdout",
     "output_type": "stream",
     "text": [
      "-16.000 + 62.000 j\n"
     ]
    }
   ],
   "source": [
    "(c2*c1).ShowNum()"
   ]
  },
  {
   "cell_type": "code",
   "execution_count": 14,
   "id": "71266fb3",
   "metadata": {},
   "outputs": [
    {
     "name": "stdout",
     "output_type": "stream",
     "text": [
      "6.000 + 8.000 j\n"
     ]
    }
   ],
   "source": [
    "((c2*c1)/c1).ShowNum()"
   ]
  },
  {
   "cell_type": "code",
   "execution_count": null,
   "id": "ae7c89f7",
   "metadata": {},
   "outputs": [],
   "source": []
  }
 ],
 "metadata": {
  "kernelspec": {
   "display_name": "Python 3",
   "language": "python",
   "name": "python3"
  },
  "language_info": {
   "codemirror_mode": {
    "name": "ipython",
    "version": 3
   },
   "file_extension": ".py",
   "mimetype": "text/x-python",
   "name": "python",
   "nbconvert_exporter": "python",
   "pygments_lexer": "ipython3",
   "version": "3.11.4"
  }
 },
 "nbformat": 4,
 "nbformat_minor": 5
}
